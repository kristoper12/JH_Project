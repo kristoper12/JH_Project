{
 "cells": [
  {
   "cell_type": "code",
   "execution_count": 11,
   "metadata": {},
   "outputs": [],
   "source": [
    "from numpy import loadtxt\n",
    "import os\n",
    "import csv"
   ]
  },
  {
   "cell_type": "code",
   "execution_count": 35,
   "metadata": {},
   "outputs": [
    {
     "name": "stdout",
     "output_type": "stream",
     "text": [
      "Person\tChild\tSalary\t\n",
      "\n",
      "Codd\tAlice\t60K\t\n",
      "Bob\tCodd\t60K\t\n",
      "Mark\tCodd\t60K\t\n",
      "Joseph\tZloof\t44K\t\n",
      "Abe\tZloof\t44K\t\n",
      "Codd\tAlice\t60K\t\n",
      "\n",
      "\n",
      "두 개 이상의 셀 값을 가지고 있습니다. \n"
     ]
    }
   ],
   "source": [
    "# Dt = os.getcwd()\n",
    "line_counter = 0\n",
    "header = []\n",
    "customer_list = []\n",
    "\n",
    "with open('Table.csv') as fp :\n",
    "    while 1 :\n",
    "        data = fp.readline().replace(\"\\n\", \"\")\n",
    "        if not data : break\n",
    "        if line_counter == 0 :\n",
    "            header = data.split(\",\")\n",
    "        else :\n",
    "            customer_list.append(data.split(\",\"))\n",
    "        line_counter = line_counter + 1\n",
    "        \n",
    "for i in range (0, 3) :\n",
    "    print(header[i], end = \"\\t\")\n",
    "\n",
    "print(\"\\n\")\n",
    "for i in range (0, 6) :\n",
    "    for j in range (0, 3) :\n",
    "        print(customer_list[i][j], end = \"\\t\")\n",
    "    print(\"\\n\", end = \"\")\n",
    "print(\"\\n\")\n",
    "# 제 1 정규형에 위배 되는지 검사\n",
    "# 한 행이 중복되면 안됨\n",
    "# 각 속성은 하나의 도메인을 가지고 있어야 함\n",
    "# 각 셀은 하나의 값만 갖는다.\n",
    "check_flag = 0\n",
    "num_flag = 0\n",
    "\n",
    "# 중복 행 찾기\n",
    "for i in range (0, 5) :\n",
    "    Person = customer_list[i][0]\n",
    "    \n",
    "    if (Person == customer_list[i + 1]) :\n",
    "        Child = customer_list[i][1]\n",
    "        \n",
    "        if (Child == customer_list[i + 1]) :\n",
    "            Salary = customer_list[i][2]\n",
    "            \n",
    "            if (Salary == customer_list[i + 1]) :\n",
    "                check_flag = 1\n",
    "                    \n",
    "# 각 속성이 하나의 도메인을 갖는가\n",
    "if (check_flag != 1) :\n",
    "    for i in range(0, 3) :\n",
    "        if (customer_list[0][i][0] < '0' and customer_list[0][i][0] > '9') :\n",
    "            num_flag = 0\n",
    "        else :\n",
    "            num_flag = 1\n",
    "        for j in range(1, 6) :\n",
    "            if (num_flag == 1) :\n",
    "                if (customer_list[j][i][0] < '0' and customer_list[j][i][0] > '9') :\n",
    "                    check_flag = 2\n",
    "            elif (num_flag == 0) :\n",
    "                if (customer_list[j][i][0] >= '0' and customer_list[j][i][0] <= '9') :\n",
    "                    check_flag = 2         \n",
    "    \n",
    "\n",
    "# 각 셀이 하나의 값을 갖는가\n",
    "if (check_flag != 1 and check_flag != 2) :\n",
    "    for i in range(0, 6) :\n",
    "        for j in range (0, 3) :\n",
    "            if (customer_list) :\n",
    "                check_flag = 3\n",
    "    \n",
    "if (check_flag == 1) :\n",
    "    print(\"중복된 행이 있습니다. 제 1 정규형에 위배됩니다.\")\n",
    "elif (check_flag == 2) :\n",
    "    print(\"두 개 이상의 도메인을 가지고 있습니다. 제 1 정규형에 위배됩니다.\")\n",
    "elif (check_flag == 3) :\n",
    "    print(\"두 개 이상의 셀 값을 가지고 있습니다. \")\n",
    "elif (check_flag == 0) :\n",
    "    print(\"제 1 정규형에 위배되지 않습니다. Key를 찾겠습니다.\")\n",
    "    "
   ]
  },
  {
   "cell_type": "code",
   "execution_count": null,
   "metadata": {},
   "outputs": [],
   "source": []
  }
 ],
 "metadata": {
  "kernelspec": {
   "display_name": "Python 3",
   "language": "python",
   "name": "python3"
  },
  "language_info": {
   "codemirror_mode": {
    "name": "ipython",
    "version": 3
   },
   "file_extension": ".py",
   "mimetype": "text/x-python",
   "name": "python",
   "nbconvert_exporter": "python",
   "pygments_lexer": "ipython3",
   "version": "3.6.5"
  }
 },
 "nbformat": 4,
 "nbformat_minor": 1
}
